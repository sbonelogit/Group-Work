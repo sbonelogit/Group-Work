{
 "cells": [
  {
   "cell_type": "code",
   "execution_count": 1,
   "id": "f6b1859d-8fea-4735-aa0d-5ddd08faf812",
   "metadata": {},
   "outputs": [
    {
     "name": "stdout",
     "output_type": "stream",
     "text": [
      "The shortest path from DBN to JHB is ['DBN', 'RBY', 'VRT', 'JHB'] with a cost of 324\n"
     ]
    }
   ],
   "source": [
    "def dijkstra_manual(graph, starting, ending):\n",
    "    \n",
    "    distances = {node: float('inf') for node in graph}\n",
    "    previous_nodes = {node: None for node in graph}\n",
    "    distances[starting] = 0\n",
    "    visited = set()\n",
    "    nodes = list(graph.keys())\n",
    "    \n",
    "    while nodes:\n",
    "        \n",
    "        current_node = min(nodes, key=lambda node: distances[node])\n",
    "        nodes.remove(current_node)\n",
    "        \n",
    "        if distances[current_node] == float('inf'):\n",
    "            break\n",
    "        \n",
    "        for neighbor, weight in graph[current_node].items():\n",
    "            new_distance = distances[current_node] + weight\n",
    "            if new_distance < distances[neighbor]:\n",
    "                distances[neighbor] = new_distance\n",
    "                previous_nodes[neighbor] = current_node\n",
    "        \n",
    "        visited.add(current_node)\n",
    "        \n",
    "        if current_node == ending:\n",
    "            break\n",
    "\n",
    "    path, current_node = [], ending\n",
    "    while previous_nodes[current_node] is not None:\n",
    "        path.insert(0, current_node)\n",
    "        current_node = previous_nodes[current_node]\n",
    "    if path:\n",
    "        path.insert(0, starting)\n",
    "    \n",
    "    return distances[ending], path\n",
    "\n",
    "graph = {\n",
    "    'DBN': {'PMB': 89, 'RBY': 112},\n",
    "    'PMB': {'RBY': 70, 'HMT': 209},\n",
    "    'RBY': {'VRT': 106},\n",
    "    'HMT': {'JHB': 210},\n",
    "    'VRT': {'JHB': 106},\n",
    "    'JHB': {}\n",
    "}\n",
    "\n",
    "\n",
    "starting_node = 'DBN'\n",
    "ending_node = 'JHB'\n",
    "cost, path = dijkstra_manual(graph, starting_node, ending_node)\n",
    "\n",
    "print(f\"The shortest path from {starting_node} to {ending_node} is {path} with a cost of {cost}\")\n"
   ]
  },
  {
   "cell_type": "code",
   "execution_count": null,
   "id": "e6a3c69f-e1d4-43e2-8efa-50fbbfcd8a2a",
   "metadata": {},
   "outputs": [],
   "source": []
  }
 ],
 "metadata": {
  "kernelspec": {
   "display_name": "Python 3 (ipykernel)",
   "language": "python",
   "name": "python3"
  },
  "language_info": {
   "codemirror_mode": {
    "name": "ipython",
    "version": 3
   },
   "file_extension": ".py",
   "mimetype": "text/x-python",
   "name": "python",
   "nbconvert_exporter": "python",
   "pygments_lexer": "ipython3",
   "version": "3.12.3"
  }
 },
 "nbformat": 4,
 "nbformat_minor": 5
}
